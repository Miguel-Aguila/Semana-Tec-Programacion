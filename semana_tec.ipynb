{
  "nbformat": 4,
  "nbformat_minor": 0,
  "metadata": {
    "colab": {
      "name": "semana_tec",
      "provenance": [],
      "authorship_tag": "ABX9TyOYaG2fScL4lNWgzxNGVg7C",
      "include_colab_link": true
    },
    "kernelspec": {
      "name": "python3",
      "display_name": "Python 3"
    }
  },
  "cells": [
    {
      "cell_type": "markdown",
      "metadata": {
        "id": "view-in-github",
        "colab_type": "text"
      },
      "source": [
        "<a href=\"https://colab.research.google.com/github/Miguel-Aguila/Semana-Tec-Programacion/blob/main/semana_tec.ipynb\" target=\"_parent\"><img src=\"https://colab.research.google.com/assets/colab-badge.svg\" alt=\"Open In Colab\"/></a>"
      ]
    },
    {
      "cell_type": "code",
      "metadata": {
        "colab": {
          "base_uri": "https://localhost:8080/",
          "height": 35
        },
        "id": "oPRgYcCrx2os",
        "outputId": "ca0b5a4b-f092-408d-8775-9c112408f46e"
      },
      "source": [
        "from music21 import note  \n",
        "\n",
        "do = note.Note('C') #Nota de 'do' \n",
        "\n",
        "#Crear archvio .mid que tenga el conjunto de notas\n",
        "from music21 import stream\n",
        "st = stream.Stream()\n",
        "st.append(do)\n",
        "st.write('midi',fp = 'cancion1.mid')\n"
      ],
      "execution_count": null,
      "outputs": [
        {
          "output_type": "execute_result",
          "data": {
            "application/vnd.google.colaboratory.intrinsic+json": {
              "type": "string"
            },
            "text/plain": [
              "'cancion1.mid'"
            ]
          },
          "metadata": {
            "tags": []
          },
          "execution_count": 4
        }
      ]
    },
    {
      "cell_type": "code",
      "metadata": {
        "colab": {
          "base_uri": "https://localhost:8080/",
          "height": 35
        },
        "id": "g3HdkEsh4BK6",
        "outputId": "25aa04ee-8b9c-4c89-dad2-4f7b40ca1770"
      },
      "source": [
        "# Información de la nota\n",
        "from music21 import note\n",
        "\n",
        "do = note.Note('C')\n",
        "do.fullName"
      ],
      "execution_count": null,
      "outputs": [
        {
          "output_type": "execute_result",
          "data": {
            "application/vnd.google.colaboratory.intrinsic+json": {
              "type": "string"
            },
            "text/plain": [
              "'C Quarter Note'"
            ]
          },
          "metadata": {
            "tags": []
          },
          "execution_count": 5
        }
      ]
    },
    {
      "cell_type": "code",
      "metadata": {
        "colab": {
          "base_uri": "https://localhost:8080/",
          "height": 35
        },
        "id": "Rm38birj6S4v",
        "outputId": "d0097871-3b2e-4752-d358-86a51a6a1d9a"
      },
      "source": [
        "# Duración de la nota\n",
        "do.duration.quarterLength = 1/4\n",
        "do.fullName\n",
        "\n",
        "#Crear archvio .mid que tenga el conjunto de notas\n",
        "from music21 import stream\n",
        "st = stream.Stream()\n",
        "st.append(do)\n",
        "st.write('midi',fp = 'cancion2.mid') "
      ],
      "execution_count": null,
      "outputs": [
        {
          "output_type": "execute_result",
          "data": {
            "application/vnd.google.colaboratory.intrinsic+json": {
              "type": "string"
            },
            "text/plain": [
              "'cancion2.mid'"
            ]
          },
          "metadata": {
            "tags": []
          },
          "execution_count": 10
        }
      ]
    },
    {
      "cell_type": "code",
      "metadata": {
        "colab": {
          "base_uri": "https://localhost:8080/",
          "height": 35
        },
        "id": "y4rDD_-L9FVf",
        "outputId": "6b47bf6b-25f1-436c-98fd-ba81eff3b277"
      },
      "source": [
        "# El stream de tu canción (el espacio de tus notas)\n",
        "from music21 import note, stream\n",
        "\n",
        "# Crear notas musicales\n",
        "do = note.Note('C') # Posición 0 del offset\n",
        "re = note.Note('D')\n",
        "re.offset = 1 # El offset es la posición de la nota\n",
        "mi = note.Note('E')\n",
        "mi.offset = 2\n",
        "fa = note.Note('F')\n",
        "fa.offset = 3\n",
        "\n",
        "song = [do, re, mi, fa]\n",
        "st = stream.Stream(song)\n",
        "st.write('midi',fp = 'cancion5.mid') "
      ],
      "execution_count": 13,
      "outputs": [
        {
          "output_type": "execute_result",
          "data": {
            "application/vnd.google.colaboratory.intrinsic+json": {
              "type": "string"
            },
            "text/plain": [
              "'cancion5.mid'"
            ]
          },
          "metadata": {
            "tags": []
          },
          "execution_count": 13
        }
      ]
    },
    {
      "cell_type": "code",
      "metadata": {
        "colab": {
          "base_uri": "https://localhost:8080/",
          "height": 35
        },
        "id": "kC4SQly2BNdY",
        "outputId": "b58277f0-fd9e-4a53-8124-3ba984eedd52"
      },
      "source": [
        "# El stream de tu canción (el espacio de tus notas) y el offset con la duración\n",
        "from music21 import note, stream\n",
        "\n",
        "# Crear notas musicales\n",
        "do = note.Note('C') # Posición 0 del offset\n",
        "re = note.Note('D')\n",
        "re.offset = 1 # El offset es la posición de la nota\n",
        "mi = note.Note('E')\n",
        "mi.offset = 2\n",
        "mi.duration.quarterLength = 2 # duración de dos posiciones\n",
        "#fa = note.Note('F')\n",
        "#fa.offset = 3\n",
        "\n",
        "song = [do, re, mi]\n",
        "st = stream.Stream(song)\n",
        "st.write('midi',fp = 'cancion6.mid') "
      ],
      "execution_count": 16,
      "outputs": [
        {
          "output_type": "execute_result",
          "data": {
            "application/vnd.google.colaboratory.intrinsic+json": {
              "type": "string"
            },
            "text/plain": [
              "'cancion6.mid'"
            ]
          },
          "metadata": {
            "tags": []
          },
          "execution_count": 16
        }
      ]
    },
    {
      "cell_type": "code",
      "metadata": {
        "id": "NFHhbvshCZyB"
      },
      "source": [
        "# Con este código se descarga automáticamente \n",
        "from google.colab import files\n",
        "\n",
        "files.downlad('cancion6.mid')"
      ],
      "execution_count": null,
      "outputs": []
    },
    {
      "cell_type": "code",
      "metadata": {
        "colab": {
          "base_uri": "https://localhost:8080/",
          "height": 17
        },
        "id": "fDTI3w0PFpbX",
        "outputId": "4b6dcfeb-625b-4e49-be3b-bd5fe21ab817"
      },
      "source": [
        "# Segunda solución para el offset\n",
        "from music21 import note, stream\n",
        "\n",
        "# Crear una nota musical\n",
        "do = note.Note('C')\n",
        "re = note.Note('D')\n",
        "mi = note.Note('E')\n",
        "fa = note.Note('F')\n",
        "\n",
        "st = stream.Stream()\n",
        "st.append(do)\n",
        "st.append(re)\n",
        "st.append(mi)\n",
        "st.append(fa)\n",
        "st.write('midi', fp = 'cancion7.mid')\n",
        "\n",
        "from google.colab import files\n",
        "files.download('cancion7.mid')"
      ],
      "execution_count": 19,
      "outputs": [
        {
          "output_type": "display_data",
          "data": {
            "application/javascript": [
              "\n",
              "    async function download(id, filename, size) {\n",
              "      if (!google.colab.kernel.accessAllowed) {\n",
              "        return;\n",
              "      }\n",
              "      const div = document.createElement('div');\n",
              "      const label = document.createElement('label');\n",
              "      label.textContent = `Downloading \"${filename}\": `;\n",
              "      div.appendChild(label);\n",
              "      const progress = document.createElement('progress');\n",
              "      progress.max = size;\n",
              "      div.appendChild(progress);\n",
              "      document.body.appendChild(div);\n",
              "\n",
              "      const buffers = [];\n",
              "      let downloaded = 0;\n",
              "\n",
              "      const channel = await google.colab.kernel.comms.open(id);\n",
              "      // Send a message to notify the kernel that we're ready.\n",
              "      channel.send({})\n",
              "\n",
              "      for await (const message of channel.messages) {\n",
              "        // Send a message to notify the kernel that we're ready.\n",
              "        channel.send({})\n",
              "        if (message.buffers) {\n",
              "          for (const buffer of message.buffers) {\n",
              "            buffers.push(buffer);\n",
              "            downloaded += buffer.byteLength;\n",
              "            progress.value = downloaded;\n",
              "          }\n",
              "        }\n",
              "      }\n",
              "      const blob = new Blob(buffers, {type: 'application/binary'});\n",
              "      const a = document.createElement('a');\n",
              "      a.href = window.URL.createObjectURL(blob);\n",
              "      a.download = filename;\n",
              "      div.appendChild(a);\n",
              "      a.click();\n",
              "      div.remove();\n",
              "    }\n",
              "  "
            ],
            "text/plain": [
              "<IPython.core.display.Javascript object>"
            ]
          },
          "metadata": {
            "tags": []
          }
        },
        {
          "output_type": "display_data",
          "data": {
            "application/javascript": [
              "download(\"download_c5420f5d-4a16-436b-a4b9-b0cdb741f8f2\", \"cancion7.mid\", 71)"
            ],
            "text/plain": [
              "<IPython.core.display.Javascript object>"
            ]
          },
          "metadata": {
            "tags": []
          }
        }
      ]
    },
    {
      "cell_type": "code",
      "metadata": {
        "colab": {
          "base_uri": "https://localhost:8080/",
          "height": 17
        },
        "id": "NyC8wEoxbYzl",
        "outputId": "906e9e0e-697c-48c5-ced2-47abf6bbffd0"
      },
      "source": [
        "# Ejemplo sin la duración \n",
        "from music21 import note, stream\n",
        "\n",
        "notes = ['E','D#','E','B3','D','C','A3'] # Nombre de las notas\n",
        "\n",
        "st = stream.Stream()\n",
        "\n",
        "for n in notes:\n",
        "  new_note = note.Note(n) # Se aplican las notas\n",
        "  st.append(new_note)\n",
        "\n",
        "st.write('midi', fp = 'cancion8.mid') \n",
        "\n",
        "from google.colab import files\n",
        "files.download('cancion8.mid')"
      ],
      "execution_count": 20,
      "outputs": [
        {
          "output_type": "display_data",
          "data": {
            "application/javascript": [
              "\n",
              "    async function download(id, filename, size) {\n",
              "      if (!google.colab.kernel.accessAllowed) {\n",
              "        return;\n",
              "      }\n",
              "      const div = document.createElement('div');\n",
              "      const label = document.createElement('label');\n",
              "      label.textContent = `Downloading \"${filename}\": `;\n",
              "      div.appendChild(label);\n",
              "      const progress = document.createElement('progress');\n",
              "      progress.max = size;\n",
              "      div.appendChild(progress);\n",
              "      document.body.appendChild(div);\n",
              "\n",
              "      const buffers = [];\n",
              "      let downloaded = 0;\n",
              "\n",
              "      const channel = await google.colab.kernel.comms.open(id);\n",
              "      // Send a message to notify the kernel that we're ready.\n",
              "      channel.send({})\n",
              "\n",
              "      for await (const message of channel.messages) {\n",
              "        // Send a message to notify the kernel that we're ready.\n",
              "        channel.send({})\n",
              "        if (message.buffers) {\n",
              "          for (const buffer of message.buffers) {\n",
              "            buffers.push(buffer);\n",
              "            downloaded += buffer.byteLength;\n",
              "            progress.value = downloaded;\n",
              "          }\n",
              "        }\n",
              "      }\n",
              "      const blob = new Blob(buffers, {type: 'application/binary'});\n",
              "      const a = document.createElement('a');\n",
              "      a.href = window.URL.createObjectURL(blob);\n",
              "      a.download = filename;\n",
              "      div.appendChild(a);\n",
              "      a.click();\n",
              "      div.remove();\n",
              "    }\n",
              "  "
            ],
            "text/plain": [
              "<IPython.core.display.Javascript object>"
            ]
          },
          "metadata": {
            "tags": []
          }
        },
        {
          "output_type": "display_data",
          "data": {
            "application/javascript": [
              "download(\"download_aa8b198a-cdd5-459b-a317-f338d970e7f7\", \"cancion8.mid\", 98)"
            ],
            "text/plain": [
              "<IPython.core.display.Javascript object>"
            ]
          },
          "metadata": {
            "tags": []
          }
        }
      ]
    },
    {
      "cell_type": "code",
      "metadata": {
        "colab": {
          "base_uri": "https://localhost:8080/",
          "height": 17
        },
        "id": "YbC2kiJberMq",
        "outputId": "095f69e6-5317-41f5-b724-0a540055f335"
      },
      "source": [
        "# Ejemplo con la duración \n",
        "from music21 import note, stream\n",
        "\n",
        "#notes = ['E','D#','E','B3','D','C','A3'] # Nombre de las notas\n",
        "notes = ['E','D#','E','B3','D','C'] # Notas con misma duración\n",
        "\n",
        "st = stream.Stream()\n",
        "\n",
        "for n in notes:\n",
        "  new_note = note.Note(n) \n",
        "  new_note.duration.quarterLength = 1/2 # Duración\n",
        "  st.append(new_note)\n",
        "\n",
        "new_note = note.Note('A3') # Nota con diferente duración\n",
        "new_note.duration.quarterLength = 2 # Duración\n",
        "st.append(new_note)\n",
        "\n",
        "st.write('midi', fp = 'cancion9.mid') \n",
        "\n",
        "from google.colab import files\n",
        "files.download('cancion9.mid')"
      ],
      "execution_count": 21,
      "outputs": [
        {
          "output_type": "display_data",
          "data": {
            "application/javascript": [
              "\n",
              "    async function download(id, filename, size) {\n",
              "      if (!google.colab.kernel.accessAllowed) {\n",
              "        return;\n",
              "      }\n",
              "      const div = document.createElement('div');\n",
              "      const label = document.createElement('label');\n",
              "      label.textContent = `Downloading \"${filename}\": `;\n",
              "      div.appendChild(label);\n",
              "      const progress = document.createElement('progress');\n",
              "      progress.max = size;\n",
              "      div.appendChild(progress);\n",
              "      document.body.appendChild(div);\n",
              "\n",
              "      const buffers = [];\n",
              "      let downloaded = 0;\n",
              "\n",
              "      const channel = await google.colab.kernel.comms.open(id);\n",
              "      // Send a message to notify the kernel that we're ready.\n",
              "      channel.send({})\n",
              "\n",
              "      for await (const message of channel.messages) {\n",
              "        // Send a message to notify the kernel that we're ready.\n",
              "        channel.send({})\n",
              "        if (message.buffers) {\n",
              "          for (const buffer of message.buffers) {\n",
              "            buffers.push(buffer);\n",
              "            downloaded += buffer.byteLength;\n",
              "            progress.value = downloaded;\n",
              "          }\n",
              "        }\n",
              "      }\n",
              "      const blob = new Blob(buffers, {type: 'application/binary'});\n",
              "      const a = document.createElement('a');\n",
              "      a.href = window.URL.createObjectURL(blob);\n",
              "      a.download = filename;\n",
              "      div.appendChild(a);\n",
              "      a.click();\n",
              "      div.remove();\n",
              "    }\n",
              "  "
            ],
            "text/plain": [
              "<IPython.core.display.Javascript object>"
            ]
          },
          "metadata": {
            "tags": []
          }
        },
        {
          "output_type": "display_data",
          "data": {
            "application/javascript": [
              "download(\"download_8a5735fd-4b22-487c-af2b-fc292994ca97\", \"cancion9.mid\", 98)"
            ],
            "text/plain": [
              "<IPython.core.display.Javascript object>"
            ]
          },
          "metadata": {
            "tags": []
          }
        }
      ]
    },
    {
      "cell_type": "code",
      "metadata": {
        "id": "yhjOuBv9eluf"
      },
      "source": [
        "# Tempo \n",
        "from music21 import note, stream, tempo\n",
        "\n",
        "# Crear una nota musical\n",
        "do = note.Note('C')\n",
        "re = note.Note('D')\n",
        "mi = note.Note('E')\n",
        "fa = note.Note('F')\n",
        "\n",
        "st = stream.Stream()\n",
        "st.append(do)\n",
        "st.append(re)\n",
        "st.append(mi)\n",
        "st.append(fa)\n",
        "\n",
        "st.insert(0, tempo.MetronomeMark(number = 180)) # Va rápido en el offset 0\n",
        "st.insert(2, tempo.MetronomeMark(number = 60)) # Va lento a partir del offset 2\n",
        "\n",
        "st.write('midi', fp = \"cancion10.mid\")\n",
        "\n",
        "from google.colab import files\n",
        "files.download('cancion10.mid')"
      ],
      "execution_count": null,
      "outputs": []
    },
    {
      "cell_type": "code",
      "metadata": {
        "colab": {
          "base_uri": "https://localhost:8080/"
        },
        "id": "YMiQBFA1n5Kg",
        "outputId": "d2427ff7-c6fc-410f-f587-9e102fd6c2e0"
      },
      "source": [
        "# IMportar música\n",
        "from music21 import converter\n",
        "\n",
        "all_score = converter.parse('cancion9.mid') # importa la canción\n",
        "all_score.show('text') # Muestra la información"
      ],
      "execution_count": 22,
      "outputs": [
        {
          "output_type": "stream",
          "text": [
            "{0.0} <music21.stream.Part 0x7f7725895550>\n",
            "    {0.0} <music21.note.Note E>\n",
            "    {0.5} <music21.note.Note E->\n",
            "    {1.0} <music21.note.Note E>\n",
            "    {1.5} <music21.note.Note B>\n",
            "    {2.0} <music21.note.Note D>\n",
            "    {2.5} <music21.note.Note C>\n",
            "    {3.0} <music21.note.Note A>\n"
          ],
          "name": "stdout"
        }
      ]
    }
  ]
}